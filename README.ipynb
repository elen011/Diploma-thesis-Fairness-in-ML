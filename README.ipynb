{
 "cells": [
  {
   "cell_type": "markdown",
   "id": "e5436300",
   "metadata": {},
   "source": [
    "# FAIRNESS IN MACHINE LEARNING: SELDONIAN APPROACHES - CODE\n",
    "**Author**: *[ELENI GEORGANTZI]*  \n",
    "**Thesis Project – [2025]*\n",
    "\n",
    "This repository contains the code developed during my thesis, focusing on fairness-aware regression using synthetic and real datasets. It includes implementations of OLS, soft constraints, NDLR (Non-Discriminatory Linear Regression), and QNDLR (Quasi NDLR) with various fairness metrics and optimization approaches.\n",
    "\n",
    "> ⚠️ **Reproducibility Notice**:  \n",
    "> NDLR, QNDLR, and their variants are **stochastic**. Their outputs vary slightly across runs.  \n",
    "> To reproduce the **exact results** from the thesis, **do not re-run** the corresponding cells.  \n",
    "> Pre-generated output files are included.\n",
    "\n",
    "---\n",
    "\n",
    "## 📁 Project Structure\n",
    "\n",
    "| File | Description |\n",
    "|------|-------------|\n",
    "| `synthetic_data_creation.ipynb` | Generates the synthetic dataset (`all_synthetic_data2.csv`) based on the illustrative example. Already included. |\n",
    "| `OLS_training.ipynb` | Applies OLS to compute regression coefficients and discrimination statistics. Produces `discrimination_statistics_with_coefficients.csv`. |\n",
    "| `soft_constraints_exp.ipynb` | Experiments with soft fairness constraints. Requires TensorFlow. |\n",
    "| `ndlr.py` | Implementation of the NDLR algorithm in Python. |\n",
    "| `ndlr_application.ipynb` | Applies NDLR to synthetic data. Requires `ndlr.py`. |\n",
    "| `QNDLR.py` | Implementation of QNDLR for 1D features. |\n",
    "| `QNDLR_application.ipynb` | Applies QNDLR in synthetic data and includes NDLR and QNDLR experiments. Requires both `QNDLR.py` and `ndlr.py`. |\n",
    "| `QNDLR_MSE.py` | QNDLR for 2D features using MSE. |\n",
    "| `qndlr_real_data.ipynb` | Applies QNDLR to real-world datasets using `QNDLR_MSE.py`. |\n",
    "| `QNDLR_MAE.py` | QNDLR variant using MAE loss. |\n",
    "| `QNDLR_MAE_DIFF.py` | QNDLR variant using MAE and `MAE_diff` discrimination metric. |\n",
    "| `QNDLR_VS_GSR.ipynb` | Compares QNDLR methods to GSR. Requires `aif360` and calls both `QNDLR_MAE.py` and `QNDLR_MAE_DIFF.py`. |\n",
    "| `demo_grid_search_reduction_regression_sklearn.ipynb` | Unmodified demo from AIF360’s GitHub. Used for reference. **Do not alter.** |\n",
    "\n",
    "---\n",
    "\n",
    "## ⚙️ Requirements\n",
    "\n",
    "- Python ≥ 3.6\n",
    "- `numpy`\n",
    "- `pandas`\n",
    "- `matplotlib`\n",
    "- `scikit-learn`\n",
    "- `tensorflow`\n",
    "- `aif360`\n",
    "\n"
   ]
  },
  {
   "cell_type": "markdown",
   "id": "1500c36c",
   "metadata": {},
   "source": []
  },
  {
   "cell_type": "markdown",
   "id": "f64066f1",
   "metadata": {},
   "source": [
    "## 🧪 Usage Notes\n",
    "\n",
    "1. Unzip the folder to access all files and pre-generated results.\n",
    "\n",
    "2. Make sure `.py` dependencies (e.g., `ndlr.py`, `QNDLR.py`) are in the **same folder** as notebooks that import them.\n",
    "\n",
    "3. Avoid re-running stochastic models (NDLR, QNDLR, etc.) if exact thesis results are required.\n"
   ]
  },
  {
   "cell_type": "markdown",
   "id": "ff6954db",
   "metadata": {},
   "source": []
  }
 ],
 "metadata": {
  "language_info": {
   "name": "python"
  }
 },
 "nbformat": 4,
 "nbformat_minor": 5
}
