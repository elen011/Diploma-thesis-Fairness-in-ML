{
 "cells": [
  {
   "cell_type": "code",
   "execution_count": 2,
   "id": "c2607cb5",
   "metadata": {},
   "outputs": [],
   "source": [
    "import numpy as np\n",
    "import pandas as pd\n",
    "from aif360.sklearn.datasets import fetch_lawschool_gpa"
   ]
  },
  {
   "cell_type": "code",
   "execution_count": 3,
   "id": "e378707f",
   "metadata": {},
   "outputs": [
    {
     "data": {
      "text/html": [
       "<div>\n",
       "<style scoped>\n",
       "    .dataframe tbody tr th:only-of-type {\n",
       "        vertical-align: middle;\n",
       "    }\n",
       "\n",
       "    .dataframe tbody tr th {\n",
       "        vertical-align: top;\n",
       "    }\n",
       "\n",
       "    .dataframe thead th {\n",
       "        text-align: right;\n",
       "    }\n",
       "</style>\n",
       "<table border=\"1\" class=\"dataframe\">\n",
       "  <thead>\n",
       "    <tr style=\"text-align: right;\">\n",
       "      <th></th>\n",
       "      <th></th>\n",
       "      <th>race</th>\n",
       "      <th>lsat</th>\n",
       "      <th>ugpa</th>\n",
       "    </tr>\n",
       "    <tr>\n",
       "      <th>race</th>\n",
       "      <th>gender</th>\n",
       "      <th></th>\n",
       "      <th></th>\n",
       "      <th></th>\n",
       "    </tr>\n",
       "  </thead>\n",
       "  <tbody>\n",
       "    <tr>\n",
       "      <th>0.0</th>\n",
       "      <th>1</th>\n",
       "      <td>0.0</td>\n",
       "      <td>38.0</td>\n",
       "      <td>3.3</td>\n",
       "    </tr>\n",
       "    <tr>\n",
       "      <th rowspan=\"10\" valign=\"top\">1.0</th>\n",
       "      <th>0</th>\n",
       "      <td>1.0</td>\n",
       "      <td>34.0</td>\n",
       "      <td>4.0</td>\n",
       "    </tr>\n",
       "    <tr>\n",
       "      <th>0</th>\n",
       "      <td>1.0</td>\n",
       "      <td>34.0</td>\n",
       "      <td>3.9</td>\n",
       "    </tr>\n",
       "    <tr>\n",
       "      <th>0</th>\n",
       "      <td>1.0</td>\n",
       "      <td>45.0</td>\n",
       "      <td>3.3</td>\n",
       "    </tr>\n",
       "    <tr>\n",
       "      <th>1</th>\n",
       "      <td>1.0</td>\n",
       "      <td>39.0</td>\n",
       "      <td>2.5</td>\n",
       "    </tr>\n",
       "    <tr>\n",
       "      <th>...</th>\n",
       "      <td>...</td>\n",
       "      <td>...</td>\n",
       "      <td>...</td>\n",
       "    </tr>\n",
       "    <tr>\n",
       "      <th>1</th>\n",
       "      <td>1.0</td>\n",
       "      <td>31.0</td>\n",
       "      <td>2.7</td>\n",
       "    </tr>\n",
       "    <tr>\n",
       "      <th>1</th>\n",
       "      <td>1.0</td>\n",
       "      <td>37.0</td>\n",
       "      <td>2.4</td>\n",
       "    </tr>\n",
       "    <tr>\n",
       "      <th>0</th>\n",
       "      <td>1.0</td>\n",
       "      <td>29.0</td>\n",
       "      <td>3.0</td>\n",
       "    </tr>\n",
       "    <tr>\n",
       "      <th>1</th>\n",
       "      <td>1.0</td>\n",
       "      <td>39.0</td>\n",
       "      <td>3.2</td>\n",
       "    </tr>\n",
       "    <tr>\n",
       "      <th>1</th>\n",
       "      <td>1.0</td>\n",
       "      <td>29.0</td>\n",
       "      <td>3.7</td>\n",
       "    </tr>\n",
       "  </tbody>\n",
       "</table>\n",
       "<p>14969 rows × 3 columns</p>\n",
       "</div>"
      ],
      "text/plain": [
       "             race  lsat  ugpa\n",
       "race gender                  \n",
       "0.0  1        0.0  38.0   3.3\n",
       "1.0  0        1.0  34.0   4.0\n",
       "     0        1.0  34.0   3.9\n",
       "     0        1.0  45.0   3.3\n",
       "     1        1.0  39.0   2.5\n",
       "...           ...   ...   ...\n",
       "     1        1.0  31.0   2.7\n",
       "     1        1.0  37.0   2.4\n",
       "     0        1.0  29.0   3.0\n",
       "     1        1.0  39.0   3.2\n",
       "     1        1.0  29.0   3.7\n",
       "\n",
       "[14969 rows x 3 columns]"
      ]
     },
     "execution_count": 3,
     "metadata": {},
     "output_type": "execute_result"
    }
   ],
   "source": [
    "X_train, y_train = fetch_lawschool_gpa(\"train\", numeric_only=True, dropcols=\"gender\")\n",
    "X_test, y_test = fetch_lawschool_gpa(\"test\", numeric_only=True, dropcols=\"gender\")\n",
    "X_train"
   ]
  },
  {
   "cell_type": "code",
   "execution_count": 4,
   "id": "67f93ead",
   "metadata": {},
   "outputs": [],
   "source": [
    "T_train = X_train.drop([\"lsat\", \"ugpa\"], axis=1)"
   ]
  },
  {
   "cell_type": "code",
   "execution_count": 5,
   "id": "a663d9d0",
   "metadata": {},
   "outputs": [],
   "source": [
    "X_train = X_train.drop([\"race\"], axis=1)"
   ]
  },
  {
   "cell_type": "code",
   "execution_count": 6,
   "id": "f4f313a4",
   "metadata": {},
   "outputs": [],
   "source": [
    "D_train = pd.concat([X_train, y_train, T_train], axis=1)"
   ]
  },
  {
   "cell_type": "code",
   "execution_count": 7,
   "id": "59000410",
   "metadata": {},
   "outputs": [
    {
     "data": {
      "text/html": [
       "<div>\n",
       "<style scoped>\n",
       "    .dataframe tbody tr th:only-of-type {\n",
       "        vertical-align: middle;\n",
       "    }\n",
       "\n",
       "    .dataframe tbody tr th {\n",
       "        vertical-align: top;\n",
       "    }\n",
       "\n",
       "    .dataframe thead th {\n",
       "        text-align: right;\n",
       "    }\n",
       "</style>\n",
       "<table border=\"1\" class=\"dataframe\">\n",
       "  <thead>\n",
       "    <tr style=\"text-align: right;\">\n",
       "      <th></th>\n",
       "      <th></th>\n",
       "      <th>lsat</th>\n",
       "      <th>ugpa</th>\n",
       "      <th>zfygpa</th>\n",
       "      <th>race</th>\n",
       "    </tr>\n",
       "    <tr>\n",
       "      <th>race</th>\n",
       "      <th>gender</th>\n",
       "      <th></th>\n",
       "      <th></th>\n",
       "      <th></th>\n",
       "      <th></th>\n",
       "    </tr>\n",
       "  </thead>\n",
       "  <tbody>\n",
       "    <tr>\n",
       "      <th>0.0</th>\n",
       "      <th>1</th>\n",
       "      <td>38.0</td>\n",
       "      <td>3.3</td>\n",
       "      <td>-0.57</td>\n",
       "      <td>0.0</td>\n",
       "    </tr>\n",
       "    <tr>\n",
       "      <th rowspan=\"10\" valign=\"top\">1.0</th>\n",
       "      <th>0</th>\n",
       "      <td>34.0</td>\n",
       "      <td>4.0</td>\n",
       "      <td>1.01</td>\n",
       "      <td>1.0</td>\n",
       "    </tr>\n",
       "    <tr>\n",
       "      <th>0</th>\n",
       "      <td>34.0</td>\n",
       "      <td>3.9</td>\n",
       "      <td>-1.28</td>\n",
       "      <td>1.0</td>\n",
       "    </tr>\n",
       "    <tr>\n",
       "      <th>0</th>\n",
       "      <td>45.0</td>\n",
       "      <td>3.3</td>\n",
       "      <td>1.57</td>\n",
       "      <td>1.0</td>\n",
       "    </tr>\n",
       "    <tr>\n",
       "      <th>1</th>\n",
       "      <td>39.0</td>\n",
       "      <td>2.5</td>\n",
       "      <td>-0.62</td>\n",
       "      <td>1.0</td>\n",
       "    </tr>\n",
       "    <tr>\n",
       "      <th>...</th>\n",
       "      <td>...</td>\n",
       "      <td>...</td>\n",
       "      <td>...</td>\n",
       "      <td>...</td>\n",
       "    </tr>\n",
       "    <tr>\n",
       "      <th>1</th>\n",
       "      <td>31.0</td>\n",
       "      <td>2.7</td>\n",
       "      <td>-1.03</td>\n",
       "      <td>1.0</td>\n",
       "    </tr>\n",
       "    <tr>\n",
       "      <th>1</th>\n",
       "      <td>37.0</td>\n",
       "      <td>2.4</td>\n",
       "      <td>-0.12</td>\n",
       "      <td>1.0</td>\n",
       "    </tr>\n",
       "    <tr>\n",
       "      <th>0</th>\n",
       "      <td>29.0</td>\n",
       "      <td>3.0</td>\n",
       "      <td>-0.28</td>\n",
       "      <td>1.0</td>\n",
       "    </tr>\n",
       "    <tr>\n",
       "      <th>1</th>\n",
       "      <td>39.0</td>\n",
       "      <td>3.2</td>\n",
       "      <td>-0.02</td>\n",
       "      <td>1.0</td>\n",
       "    </tr>\n",
       "    <tr>\n",
       "      <th>1</th>\n",
       "      <td>29.0</td>\n",
       "      <td>3.7</td>\n",
       "      <td>-0.26</td>\n",
       "      <td>1.0</td>\n",
       "    </tr>\n",
       "  </tbody>\n",
       "</table>\n",
       "<p>14969 rows × 4 columns</p>\n",
       "</div>"
      ],
      "text/plain": [
       "             lsat  ugpa  zfygpa  race\n",
       "race gender                          \n",
       "0.0  1       38.0   3.3   -0.57   0.0\n",
       "1.0  0       34.0   4.0    1.01   1.0\n",
       "     0       34.0   3.9   -1.28   1.0\n",
       "     0       45.0   3.3    1.57   1.0\n",
       "     1       39.0   2.5   -0.62   1.0\n",
       "...           ...   ...     ...   ...\n",
       "     1       31.0   2.7   -1.03   1.0\n",
       "     1       37.0   2.4   -0.12   1.0\n",
       "     0       29.0   3.0   -0.28   1.0\n",
       "     1       39.0   3.2   -0.02   1.0\n",
       "     1       29.0   3.7   -0.26   1.0\n",
       "\n",
       "[14969 rows x 4 columns]"
      ]
     },
     "execution_count": 7,
     "metadata": {},
     "output_type": "execute_result"
    }
   ],
   "source": [
    "D_train"
   ]
  },
  {
   "cell_type": "code",
   "execution_count": 8,
   "id": "5a88e2aa",
   "metadata": {},
   "outputs": [],
   "source": [
    "T_test = X_test.drop([\"lsat\", \"ugpa\"], axis=1)"
   ]
  },
  {
   "cell_type": "code",
   "execution_count": 9,
   "id": "4e3d91f1",
   "metadata": {},
   "outputs": [],
   "source": [
    "X_test = X_test.drop([\"race\"], axis=1)"
   ]
  },
  {
   "cell_type": "code",
   "execution_count": 10,
   "id": "44c21115",
   "metadata": {},
   "outputs": [],
   "source": [
    "D_test = pd.concat([X_test, y_test, T_test], axis=1)"
   ]
  },
  {
   "cell_type": "code",
   "execution_count": 11,
   "id": "7be22e10",
   "metadata": {},
   "outputs": [],
   "source": [
    "def compute_discrimination_statistic(df, model, feature_cols, target_col='Y', group_col='T'):\n",
    "\n",
    "    group_A = df[df[group_col] == 0]\n",
    "    group_B = df[df[group_col] == 1]\n",
    "\n",
    "    # Predictions\n",
    "    y_A_pred = model.predict(group_A[feature_cols])\n",
    "    y_B_pred = model.predict(group_B[feature_cols])\n",
    "\n",
    "    # True values\n",
    "    y_A_true = group_A[target_col]\n",
    "    y_B_true = group_B[target_col]\n",
    "\n",
    "    # Mean prediction errors\n",
    "    mean_A = np.mean(y_A_pred - y_A_true)\n",
    "    mean_B = np.mean(y_B_pred - y_B_true)\n",
    "\n",
    "    return mean_A - mean_B  # d(θ)"
   ]
  },
  {
   "cell_type": "code",
   "execution_count": 12,
   "id": "085c4d90",
   "metadata": {},
   "outputs": [
    {
     "name": "stdout",
     "output_type": "stream",
     "text": [
      "Discrimination statistic d(θ): 0.5701362005060027\n",
      "Mean Squared Error (MSE): 0.855195802077886\n"
     ]
    }
   ],
   "source": [
    "from sklearn.linear_model import LinearRegression\n",
    "from sklearn.metrics import mean_squared_error\n",
    "\n",
    "# Step 1: Prepare your DataFrame\n",
    "D_train['T'] = D_train['race']  # or whatever the group attribute is\n",
    "D_train['Y'] = D_train['zfygpa']           # set 'Y' column as target\n",
    "\n",
    "D_test['T'] = D_test['race']  # or whatever the group attribute is\n",
    "D_test['Y'] = D_test['zfygpa']           # set 'Y' column as target\n",
    "\n",
    "\n",
    "# Step 2: Fit the model\n",
    "feature_cols = ['lsat', 'ugpa']\n",
    "model = LinearRegression()\n",
    "model.fit(D_train[feature_cols], D_train['Y'])\n",
    "\n",
    "# Step 3: Compute discrimination statistic\n",
    "d_theta = compute_discrimination_statistic(D_test, model, feature_cols)\n",
    "print(\"Discrimination statistic d(θ):\", d_theta)\n",
    "\n",
    "y_pred = model.predict(D_test[feature_cols])\n",
    "mse = mean_squared_error(D_test['Y'], y_pred)\n",
    "print(\"Mean Squared Error (MSE):\", mse)\n"
   ]
  },
  {
   "cell_type": "code",
   "execution_count": 13,
   "id": "2dd4572d",
   "metadata": {},
   "outputs": [],
   "source": [
    "D_train_formatted = np.array([\n",
    "    [[row['lsat'], row['ugpa']], row['zfygpa'], row['race']]\n",
    "    for _, row in D_train.iterrows()\n",
    "], dtype=object)"
   ]
  },
  {
   "cell_type": "code",
   "execution_count": 14,
   "id": "c0a4aca8",
   "metadata": {},
   "outputs": [],
   "source": [
    "D_test_formatted = np.array([\n",
    "    [[row['lsat'], row['ugpa']], row['zfygpa'], row['race']]\n",
    "    for _, row in D_test.iterrows()\n",
    "], dtype=object)"
   ]
  },
  {
   "cell_type": "code",
   "execution_count": null,
   "id": "68a5110d",
   "metadata": {},
   "outputs": [],
   "source": [
    "max_attempts = 40  # Prevent infinite loops\n",
    "attempt = 0\n",
    "theta_opt = \"No Solution Found\"\n",
    "\n",
    "\n",
    "while isinstance(theta_opt, str) and attempt < max_attempts:\n",
    "    print(f\"🔁 Attempt {attempt + 1}\")\n",
    "    import importlib\n",
    "    import QNDLR_MSE\n",
    "    importlib.reload(QNDLR_MSE)\n",
    "\n",
    "    from QNDLR_MSE import QNDLR\n",
    "\n",
    "    theta_opt = QNDLR(D_train_formatted, 0.05, 0.1, 1.5, 0)\n",
    "    print(theta_opt)\n",
    "    attempt += 1\n",
    "\n",
    "if isinstance(theta_opt, str):\n",
    "    print(\"❌ QNDLR failed after 40 attempts.\")\n",
    "else:\n",
    "    print(\"✅ Solution found!\")\n",
    "    print(theta_opt)\n"
   ]
  },
  {
   "cell_type": "code",
   "execution_count": 16,
   "id": "3131d06b",
   "metadata": {},
   "outputs": [],
   "source": [
    "theta_opt_qndlr = [0.1206594, 0.32250269]"
   ]
  },
  {
   "cell_type": "code",
   "execution_count": null,
   "id": "4a250859",
   "metadata": {},
   "outputs": [],
   "source": [
    "def compute_discrimination_statistic_QNDLR(D_formatted, theta_opt):\n",
    "    # Extract X, Y, T from D_formatted\n",
    "    X = np.array([row[0] for row in D_formatted])\n",
    "    Y = np.array([row[1] for row in D_formatted])\n",
    "    T = np.array([row[2] for row in D_formatted])\n",
    "\n",
    "    theta_opt = np.array(theta_opt).flatten()\n",
    "\n",
    "    group_A_mask = (T == 0)\n",
    "    group_B_mask = (T == 1)\n",
    "\n",
    "    # Compute predictions properly depending on X shape\n",
    "    if X.ndim == 1:\n",
    "        # Each X is scalar (1D array of scalars)\n",
    "        y_pred = X * theta_opt if theta_opt.size == 1 else X * theta_opt[0]\n",
    "    else:\n",
    "        # X is 2D (n_samples x n_features)\n",
    "        y_pred = X.dot(theta_opt)\n",
    "\n",
    "    # Group predictions and true values\n",
    "    y_A_pred = y_pred[group_A_mask]\n",
    "    y_B_pred = y_pred[group_B_mask]\n",
    "\n",
    "    y_A_true = Y[group_A_mask]\n",
    "    y_B_true = Y[group_B_mask]\n",
    "\n",
    "    mean_A = np.mean(y_A_pred - y_A_true)\n",
    "    mean_B = np.mean(y_B_pred - y_B_true)\n",
    "\n",
    "    d_theta = mean_A - mean_B\n",
    "    return d_theta"
   ]
  },
  {
   "cell_type": "code",
   "execution_count": 18,
   "id": "660a7f03",
   "metadata": {},
   "outputs": [
    {
     "data": {
      "text/plain": [
       "np.float64(-0.029020382288726054)"
      ]
     },
     "execution_count": 18,
     "metadata": {},
     "output_type": "execute_result"
    }
   ],
   "source": [
    "compute_discrimination_statistic_QNDLR(D_test_formatted, theta_opt_qndlr)"
   ]
  },
  {
   "cell_type": "code",
   "execution_count": 22,
   "id": "1ae28fa4",
   "metadata": {},
   "outputs": [
    {
     "name": "stdout",
     "output_type": "stream",
     "text": [
      "Mean Squared Error (MSE): 30.315084767798357\n"
     ]
    }
   ],
   "source": [
    "y_pred_qndlr = X_test.dot(theta_opt_qndlr)\n",
    "mse = mean_squared_error(D_test['Y'], y_pred_qndlr)\n",
    "print(\"Mean Squared Error (MSE):\", mse)"
   ]
  },
  {
   "cell_type": "code",
   "execution_count": null,
   "id": "1cc34c02",
   "metadata": {},
   "outputs": [],
   "source": [
    "max_attempts = 40  # Prevent infinite loops\n",
    "attempt = 0\n",
    "theta_opt_qndlr2 = \"No Solution Found\"\n",
    "\n",
    "\n",
    "while isinstance(theta_opt, str) and attempt < max_attempts:\n",
    "    print(f\"🔁 Attempt {attempt + 1}\")\n",
    "    import importlib\n",
    "    import QNDLR_MSE\n",
    "    importlib.reload(QNDLR_MSE)\n",
    "\n",
    "    from QNDLR_MSE import QNDLR\n",
    "\n",
    "    theta_opt = QNDLR(D_train_formatted, 0.05, 0.1, 1.5, 0)\n",
    "    print(theta_opt_qndlr2)\n",
    "    attempt += 1\n",
    "\n",
    "if isinstance(theta_opt_qndlr2, str):\n",
    "    print(\"❌ QNDLR failed after 40 attempts.\")\n",
    "else:\n",
    "    print(\"✅ Solution found!\")\n",
    "    print(theta_opt_qndlr2)"
   ]
  },
  {
   "cell_type": "code",
   "execution_count": 20,
   "id": "10532932",
   "metadata": {},
   "outputs": [],
   "source": [
    "theta_opt_qndlr2= [0.12249029, 0.05404037]"
   ]
  },
  {
   "cell_type": "code",
   "execution_count": 21,
   "id": "5010ade6",
   "metadata": {},
   "outputs": [
    {
     "data": {
      "text/plain": [
       "np.float64(0.05917037759891386)"
      ]
     },
     "execution_count": 21,
     "metadata": {},
     "output_type": "execute_result"
    }
   ],
   "source": [
    "compute_discrimination_statistic_QNDLR(D_test_formatted, theta_opt_qndlr2)"
   ]
  },
  {
   "cell_type": "code",
   "execution_count": 23,
   "id": "de400631",
   "metadata": {},
   "outputs": [
    {
     "name": "stdout",
     "output_type": "stream",
     "text": [
      "Mean Squared Error (MSE): 22.30173903657535\n"
     ]
    }
   ],
   "source": [
    "y_pred_qndlr2 = X_test.dot(theta_opt_qndlr2)\n",
    "mse = mean_squared_error(D_test['Y'], y_pred_qndlr2)\n",
    "print(\"Mean Squared Error (MSE):\", mse)"
   ]
  },
  {
   "cell_type": "code",
   "execution_count": null,
   "id": "0e8e4d4a",
   "metadata": {},
   "outputs": [],
   "source": []
  }
 ],
 "metadata": {
  "kernelspec": {
   "display_name": "fairn",
   "language": "python",
   "name": "python3"
  },
  "language_info": {
   "codemirror_mode": {
    "name": "ipython",
    "version": 3
   },
   "file_extension": ".py",
   "mimetype": "text/x-python",
   "name": "python",
   "nbconvert_exporter": "python",
   "pygments_lexer": "ipython3",
   "version": "3.9.23"
  }
 },
 "nbformat": 4,
 "nbformat_minor": 5
}
